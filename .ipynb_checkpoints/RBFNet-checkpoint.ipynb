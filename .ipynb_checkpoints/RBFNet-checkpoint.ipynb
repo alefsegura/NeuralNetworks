{
 "cells": [
  {
   "cell_type": "code",
   "execution_count": 64,
   "metadata": {},
   "outputs": [],
   "source": [
    "import warnings\n",
    "warnings.simplefilter(action='ignore', category=FutureWarning)\n",
    "\n",
    "import numpy as np\n",
    "import pandas as pd\n",
    "import random\n",
    "import matplotlib.pyplot as plt\n",
    "from collections import namedtuple\n",
    "from sklearn import preprocessing\n",
    "from sklearn.preprocessing import OneHotEncoder\n",
    "from sklearn.preprocessing import StandardScaler"
   ]
  },
  {
   "cell_type": "code",
   "execution_count": 97,
   "metadata": {},
   "outputs": [],
   "source": [
    "def prepara_dataset(data, y_collumns, sep=','):\n",
    "    \n",
    "    # Acquiring dataset data and class data\n",
    "    y = data.iloc[:,len(data.columns)-y_collumns: len(data.columns)]\n",
    "    y = np.array(y)\n",
    "    X = data.iloc[:,0:len(data.columns)-y_collumns]\n",
    "    X = np.array(X)\n",
    "    \n",
    "    # Randomizing dataset\n",
    "    indices = np.random.choice(len(X), len(X), replace=False)\n",
    "    X_values = X[indices]\n",
    "    y_values = y[indices]\n",
    "    \n",
    "    # Creating an alias to dataset -> dataset.X and dataset.Y\n",
    "    dataset = namedtuple('datset', 'X Y')\n",
    "\n",
    "    return dataset(X=X_values, Y=y_values)\n",
    "\n",
    "\n",
    "class RBFNet:\n",
    "\n",
    "    \n",
    "    def __init__(self, eta, sigma):\n",
    "        self.eta = eta\n",
    "        self.sigma = sigma\n",
    "        \n",
    "\n",
    "    def train_test_split(self, dataset, percentage):\n",
    "        # Computing the lenght of dataset.\n",
    "        lenght = dataset.X.shape[0]\n",
    "        # Split dataset into train and test.\n",
    "        x_train = dataset.X[0:int(percentage*lenght), :]\n",
    "        y_train = dataset.Y[0:int(percentage*lenght), :]\n",
    "        x_test = dataset.X[int(percentage*lenght):, :]\n",
    "        y_test = dataset.Y[int(percentage*lenght):, :]\n",
    "        # Creating an alias to train and test set.\n",
    "        dataset = namedtuple('datset', 'X Y')\n",
    "        train = dataset(X=x_train, Y=y_train)\n",
    "        test = dataset(X=x_test, Y=y_test)\n",
    "        return train, test\n",
    "\n",
    "    \n",
    "    def hidden_train(self, x, n_clusters, clusters, sigma):\n",
    "        distances = np.zeros(n_clusters)\n",
    "        for i in range(n_clusters):\n",
    "            # Calculando a distância euclidiana para cada cluster i.\n",
    "            distances[i] = np.sqrt(np.sum(((x - clusters[i])**2)))\n",
    "        # Applying radial basis function\n",
    "        distances = np.exp(-(((distances**2))/(2*(sigma**2))))\n",
    "        # Envia para a camada escondida o cálculo da distância do exemplo x para cada cluster.\n",
    "        return distances\n",
    "\n",
    "    \n",
    "    def forward(self, x, output_weights):\n",
    "        # Função de ativação = função identidade. Concatena com 1 p/ adição do theta.\n",
    "        x_aux = np.concatenate((x, np.ones(1)))\n",
    "        return np.matmul(x_aux, output_weights.T) \n",
    "\n",
    "    \n",
    "    def backward(self, dataset, eta, n_classes, output_weights, entry, f_net_o, distance):\n",
    "        y = dataset.Y[entry]\n",
    "        # Calcula o erro\n",
    "        error = y - f_net_o\n",
    "        # Atualiza os pesos da camada de saída\n",
    "        output_weights += eta*np.matmul(error.reshape(n_classes,1),np.append(distance,1).reshape(1,n_classes+1))\n",
    "        return output_weights, error    \n",
    "    \n",
    "    \n",
    "    def fit(self, dataset, n_classes, data_ratio, delta_error, verbose):   \n",
    "        eta = self.eta \n",
    "        sigma = self.sigma\n",
    "        train, test = train_test_split(dataset, data_ratio)\n",
    "        n_clusters = n_classes\n",
    "        clusters = np.zeros((n_clusters, dataset.X.shape[1]))\n",
    "        # Calculating the clusters\n",
    "        for i in range(1, n_clusters+1):\n",
    "            clusters[i-1] = train.X[np.argmax(train.Y,axis=1)+1 == i].mean(axis=0)\n",
    "        hidden_units = n_clusters\n",
    "        # Initializing and filling the weights values of output layer\n",
    "        output_weights = np.zeros((n_clusters,n_classes+1))\n",
    "        # Inicialização dos pesos da camada de saída com distribuição uniforme de -1 a 1\n",
    "        for i in range(n_clusters):\n",
    "            for j in range(n_classes+1):\n",
    "                output_weights[i][j] = random.uniform(-1, 1)\n",
    "        # Treina a rede até que o erro decreça ao mínimo aceito (delta_error)\n",
    "        epoch = 0\n",
    "        errors_list = [1,0]\n",
    "        old_delta = 10\n",
    "        delta = 0\n",
    "        if verbose:\n",
    "            print('Epoch | Erro')\n",
    "        while(abs(delta-old_delta) > delta_error):\n",
    "            error = 0\n",
    "            # Para cada entrada de treino\n",
    "            for entry in range(train.X.shape[0]):\n",
    "                # Calcula a distancia do exemplo para cada cluster\n",
    "                distances = hidden_train(train.X[entry], n_clusters, clusters, sigma)\n",
    "                # Calcula a saida esperada com base nos pesos atuais\n",
    "                f_net_o = forward(distances, output_weights)\n",
    "                # Atualiza os pesos e computa o erro\n",
    "                output_weights, erro = backward(train, eta, n_classes, output_weights, entry, f_net_o, distances)\n",
    "                error += sum(erro*erro)\n",
    "            epoch += 1\n",
    "            if verbose:\n",
    "                print(epoch,error)\n",
    "            old_delta = delta\n",
    "            delta = error\n",
    "        self.output_weights = output_weights\n",
    "        self.clusters = clusters\n",
    "        self.n_clusters = n_clusters\n",
    "        self.dataset = dataset\n",
    "        print('Total epochs:', epoch)\n",
    "\n",
    "    def predict(self, entry):\n",
    "        output_weights = self.output_weights\n",
    "        n_clusters = self.n_clusters\n",
    "        clusters = self.clusters\n",
    "        sigma = self.sigma\n",
    "        distances = self.hidden_train(entry, n_clusters, clusters, sigma)\n",
    "        y_hat = self.forward(distances, output_weights)\n",
    "        return np.argmax(y_hat)\n",
    "        \n",
    "    def score(self):\n",
    "        dataset = self.dataset\n",
    "        output_weights = self.output_weights\n",
    "        n_clusters = self.n_clusters\n",
    "        clusters = self.clusters\n",
    "        sigma = self.sigma\n",
    "        counter = 0\n",
    "        # Para cada entrada de teste..\n",
    "        for entry in range(dataset.X.shape[0]):\n",
    "            y_hat = self.predict(dataset.X[entry])\n",
    "            y = np.argmax(dataset.Y[entry])\n",
    "            # Compara as saidas, se igual -> soma 1 acerto.\n",
    "            if (y == y_hat):\n",
    "                counter += 1\n",
    "        return (counter/dataset.X.shape[0])"
   ]
  },
  {
   "cell_type": "markdown",
   "metadata": {},
   "source": [
    "## Testando"
   ]
  },
  {
   "cell_type": "code",
   "execution_count": 92,
   "metadata": {},
   "outputs": [],
   "source": [
    "df = pd.read_csv('semeion.data', index_col=False, header=None, sep=' ')\n",
    "digitos = prepara_dataset(df, 10)"
   ]
  },
  {
   "cell_type": "code",
   "execution_count": 98,
   "metadata": {
    "scrolled": true
   },
   "outputs": [
    {
     "name": "stdout",
     "output_type": "stream",
     "text": [
      "Total epochs: 8\n"
     ]
    },
    {
     "data": {
      "text/plain": [
       "0.1016949152542373"
      ]
     },
     "execution_count": 98,
     "metadata": {},
     "output_type": "execute_result"
    }
   ],
   "source": [
    "# Teste das acurácias da rede RBF\n",
    "rbf = RBFNet(eta=0.5, sigma=1.9)\n",
    "rbf.fit(dataset=digitos, n_classes=10, data_ratio=0.7, delta_error=4, verbose=False)\n",
    "rbf.score()"
   ]
  },
  {
   "cell_type": "code",
   "execution_count": 99,
   "metadata": {},
   "outputs": [
    {
     "data": {
      "image/png": "[encoded data removed]",
      "text/plain": [
       "<Figure size 1224x360 with 16 Axes>"
      ]
     },
     "metadata": {},
     "output_type": "display_data"
    }
   ],
   "source": [
    "# Resultado\n",
    "plt.figure(figsize=(17,5))\n",
    "for i in range(1,17):\n",
    "    plt.subplot(2,8,i)\n",
    "    rand = np.random.randint(0, len(df)+1)\n",
    "    real = np.argmax(digitos.Y[rand])\n",
    "    pred = rbf.predict(digitos.X[rand])\n",
    "    plt.imshow(digitos.X[rand].reshape(16,16), cmap='binary')\n",
    "    plt.xlabel('Real: {}\\nPrevisto: {}'.format(real, pred))\n",
    "    plt.xticks([])\n",
    "    plt.yticks([])\n",
    "plt.show()"
   ]
  }
 ],
 "metadata": {
  "kernelspec": {
   "display_name": "Python 3",
   "language": "python",
   "name": "python3"
  },
  "language_info": {
   "codemirror_mode": {
    "name": "ipython",
    "version": 3
   },
   "file_extension": ".py",
   "mimetype": "text/x-python",
   "name": "python",
   "nbconvert_exporter": "python",
   "pygments_lexer": "ipython3",
   "version": "3.6.7"
  }
 },
 "nbformat": 4,
 "nbformat_minor": 2
}
