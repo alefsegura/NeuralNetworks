{
 "cells": [
  {
   "cell_type": "markdown",
   "metadata": {},
   "source": [
    "# SCC0570 - Introdução a Redes Neurais\n",
    "## Instituto de Ciências Matemáticas e Computação - Unversidade de São Paulo\n",
    "\n",
    "* Alef Segura Santos, 9762942\n",
    "* Gustavo de Moura Souza, 9762981"
   ]
  },
  {
   "cell_type": "code",
   "execution_count": 1,
   "metadata": {},
   "outputs": [],
   "source": [
    "import pandas as pd\n",
    "import numpy as np\n",
    "import matplotlib.pyplot as plt\n",
    "\n",
    "import util\n",
    "from MLP import MLP\n",
    "from RBFNet import RBFNet"
   ]
  },
  {
   "cell_type": "markdown",
   "metadata": {},
   "source": [
    "### Leitura e Preparação dos Dados"
   ]
  },
  {
   "cell_type": "code",
   "execution_count": 2,
   "metadata": {},
   "outputs": [
    {
     "name": "stdout",
     "output_type": "stream",
     "text": [
      "(1592, 266)\n"
     ]
    }
   ],
   "source": [
    "# Leitura do csv\n",
    "df = pd.read_csv('datasets/semeion.data', sep=' ', lineterminator='\\n')\n",
    "print(df.shape)\n",
    "\n",
    "# Preparação do dataset\n",
    "digitos = util.prepara_dataset(df, 10)"
   ]
  },
  {
   "cell_type": "markdown",
   "metadata": {},
   "source": [
    "# Treinamento dos Modelos\n",
    "### MLP"
   ]
  },
  {
   "cell_type": "code",
   "execution_count": 3,
   "metadata": {},
   "outputs": [
    {
     "name": "stdout",
     "output_type": "stream",
     "text": [
      "Last epoch: 91 | Error: 8.478411368796083\n",
      "Acurácia: 0.8807531380753139\n"
     ]
    }
   ],
   "source": [
    "mlp = MLP(hidden_units=[20],  learning_rate=0.5)\n",
    "mlp.fit(digitos, n_classes=10, train_size=0.7, delta_error=0.01)\n",
    "print('Acurácia:', mlp.score())"
   ]
  },
  {
   "cell_type": "markdown",
   "metadata": {},
   "source": [
    "### RBF"
   ]
  },
  {
   "cell_type": "code",
   "execution_count": 4,
   "metadata": {},
   "outputs": [
    {
     "name": "stdout",
     "output_type": "stream",
     "text": [
      "Last epoch: 1100 | Error: 750.2771591910453\n",
      "Acurácia: 0.5540201005025126\n"
     ]
    }
   ],
   "source": [
    "rbf = RBFNet(eta=0.5, sigma=1.9)\n",
    "rbf.fit(digitos, n_classes=10, train_size=0.7, delta_error=0.1)\n",
    "print('Acurácia:', rbf.score())"
   ]
  },
  {
   "cell_type": "markdown",
   "metadata": {},
   "source": [
    "# Comparação"
   ]
  },
  {
   "cell_type": "code",
   "execution_count": 5,
   "metadata": {},
   "outputs": [
    {
     "data": {
      "image/png": "[encoded data removed]",
      "text/plain": [
       "<Figure size 1008x432 with 10 Axes>"
      ]
     },
     "metadata": {},
     "output_type": "display_data"
    }
   ],
   "source": [
    "# Separa amostras de cada dígito\n",
    "sample = util.sample(digitos)\n",
    "\n",
    "# Resultado\n",
    "plt.figure(figsize=(14,6))\n",
    "\n",
    "for s in sample:\n",
    "    # Amostra aleatória\n",
    "    rand = np.random.randint(0, len(sample[s]))\n",
    "    pred_mlp = mlp.predict(sample[s][rand])\n",
    "    pred_rbf = rbf.predict(sample[s][rand])\n",
    "    \n",
    "    # Mostrando resultado\n",
    "    plt.subplot(2,5,int(s)+1)\n",
    "    plt.imshow(sample[s][rand].reshape(16,16), cmap='binary')\n",
    "    plt.title('Real: {}\\nMLP: {} | RBF: {}'.format(s, pred_mlp, pred_rbf))\n",
    "    plt.xticks([])\n",
    "    plt.yticks([])\n",
    "    \n",
    "plt.show()"
   ]
  }
 ],
 "metadata": {
  "kernelspec": {
   "display_name": "Python 3",
   "language": "python",
   "name": "python3"
  },
  "language_info": {
   "codemirror_mode": {
    "name": "ipython",
    "version": 3
   },
   "file_extension": ".py",
   "mimetype": "text/x-python",
   "name": "python",
   "nbconvert_exporter": "python",
   "pygments_lexer": "ipython3",
   "version": "3.6.7"
  }
 },
 "nbformat": 4,
 "nbformat_minor": 2
}
